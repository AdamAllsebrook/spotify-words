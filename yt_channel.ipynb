{
 "cells": [
  {
   "cell_type": "code",
   "execution_count": null,
   "metadata": {},
   "outputs": [],
   "source": [
    "import time\n",
    "from selenium.webdriver import Chrome\n",
    "from selenium.webdriver.common.by import By\n",
    "from selenium.webdriver.common.keys import Keys\n",
    "from selenium.webdriver.support.ui import WebDriverWait\n",
    "from selenium.webdriver.support import expected_conditions as EC\n",
    "from selenium.webdriver.chrome.options import Options\n",
    "import pandas as pd\n",
    "import numpy as np\n",
    "from concurrent import futures\n",
    "\n",
    "DATASET_PATH = 'datasets/artists2.csv'\n",
    "\n",
    "ID = 'id'\n",
    "NAME = 'name'\n",
    "YOUTUBE = 'youtube_url'\n",
    "SPOTIFY = 'spotify_uri'\n",
    "\n",
    "SEARCH_URL = 'https://www.youtube.com/results?search_query=%s'\n",
    "ANCHOR_SELECTOR = 'a.channel-link, .ytd-secondary-search-container-renderer a'"
   ]
  },
  {
   "cell_type": "code",
   "execution_count": null,
   "metadata": {},
   "outputs": [],
   "source": [
    "def load_csv():\n",
    "    return pd.read_csv(DATASET_PATH, index_col=ID)\n",
    "\n",
    "def save_csv(df):\n",
    "    df.to_csv(DATASET_PATH, encoding='utf-8')  \n",
    "\n",
    "\n",
    "def get_yt_channel(artist_name, options=None):\n",
    "    artist_name = artist_name.replace('&', '%26')\n",
    "    artist_name += ' music'\n",
    "\n",
    "    with Chrome(options=options) as driver:\n",
    "        wait = WebDriverWait(driver,5)\n",
    "        driver.get(SEARCH_URL % artist_name)\n",
    "        \n",
    "        wait.until(EC.presence_of_element_located((By.CSS_SELECTOR, ANCHOR_SELECTOR)))\n",
    "        anchor_tag = driver.find_element(By.CSS_SELECTOR, ANCHOR_SELECTOR)\n",
    "        return anchor_tag.get_attribute('href')\n",
    "\n",
    "def get_yt_channels(df, n=None, timeout=20, verbose=False):\n",
    "    options = Options()\n",
    "    options.add_argument('--headless=new')\n",
    "    options.add_argument('--window-size=2560,1440')\n",
    "    with futures.ThreadPoolExecutor() as executor:\n",
    "        future_urls = []\n",
    "        for index, row in df[df[YOUTUBE].isna()].iterrows():\n",
    "            future_urls.append((\n",
    "                index, \n",
    "                row[NAME], \n",
    "                executor.submit(get_yt_channel, row[NAME], options)\n",
    "                ))\n",
    "            if len(future_urls) == n:\n",
    "                break\n",
    "\n",
    "        for (index, name, future_url) in future_urls:\n",
    "            try:        \n",
    "                url = future_url.result(timeout=timeout)\n",
    "                df.at[index, YOUTUBE] = url\n",
    "                if verbose:\n",
    "                    print(f'{name} has channel {url}')  \n",
    "                save_csv(df)  \n",
    "            except Exception as exc:\n",
    "                if verbose:\n",
    "                    print(f'{name} generated an exception')"
   ]
  },
  {
   "cell_type": "code",
   "execution_count": null,
   "metadata": {},
   "outputs": [],
   "source": [
    "df = load_csv()\n",
    "if YOUTUBE not in df.columns:\n",
    "    df[YOUTUBE] = np.nan\n",
    "\n",
    "# loop in case of timeouts\n",
    "while df[YOUTUBE].isna().sum() > 0:\n",
    "    get_yt_channels(df, verbose=True)\n",
    "    print(f'{df[YOUTUBE].isna().sum()} artists left')"
   ]
  }
 ],
 "metadata": {
  "kernelspec": {
   "display_name": "env",
   "language": "python",
   "name": "python3"
  },
  "language_info": {
   "codemirror_mode": {
    "name": "ipython",
    "version": 3
   },
   "file_extension": ".py",
   "mimetype": "text/x-python",
   "name": "python",
   "nbconvert_exporter": "python",
   "pygments_lexer": "ipython3",
   "version": "3.11.1"
  },
  "orig_nbformat": 4
 },
 "nbformat": 4,
 "nbformat_minor": 2
}
