{
 "cells": [
  {
   "cell_type": "code",
   "execution_count": null,
   "metadata": {},
   "outputs": [],
   "source": [
    "import pandas as pd"
   ]
  },
  {
   "cell_type": "markdown",
   "metadata": {},
   "source": [
    "combine these two datasets:\n",
    "https://www.kaggle.com/datasets/adnananam/spotify-artist-stats\n",
    "https://www.kaggle.com/datasets/ehcall/spotify-artists\n"
   ]
  },
  {
   "cell_type": "code",
   "execution_count": null,
   "metadata": {},
   "outputs": [],
   "source": [
    "artist_uris = pd.read_csv('datasets/artist-uris.csv', names=['Artist Name', 'spotify_uri'], index_col='Artist Name')\n",
    "artist_uris = artist_uris.loc[~artist_uris.index.duplicated(keep='first')]\n",
    "print(artist_uris.shape)\n",
    "print(artist_uris.head(), '\\n')\n",
    "artist_data = pd.read_csv('datasets/artist-data.csv', index_col='Artist Name')\n",
    "artist_data = artist_data.loc[~artist_data.index.duplicated(keep='first')]\n",
    "print(artist_data.shape)\n",
    "print(artist_data.head())"
   ]
  },
  {
   "cell_type": "code",
   "execution_count": null,
   "metadata": {},
   "outputs": [],
   "source": [
    "joined = pd.concat([artist_data, artist_uris], axis=1, join='inner')\n",
    "\n",
    "with open('datasets/missed-artists.txt', 'w') as f:\n",
    "    f.write('\\n'.join(set(artist_data.index).difference(set(joined.index))))\n",
    "\n",
    "joined.reset_index(inplace=True)\n",
    "joined.index.name = 'id'\n",
    "joined.drop(columns=['Unnamed: 0', 'Lead Streams', 'Feats', 'Tracks', 'One Billion', '100 Million', 'Last Updated'], inplace=True)\n",
    "joined.rename(columns={'Artist Name': 'name'}, inplace=True)\n",
    "\n",
    "print(joined.shape)\n",
    "joined.head()"
   ]
  },
  {
   "cell_type": "code",
   "execution_count": null,
   "metadata": {},
   "outputs": [],
   "source": [
    "joined.to_csv('datasets/artists2.csv', encoding='utf-8')\n"
   ]
  },
  {
   "cell_type": "code",
   "execution_count": null,
   "metadata": {},
   "outputs": [],
   "source": []
  }
 ],
 "metadata": {
  "kernelspec": {
   "display_name": "env",
   "language": "python",
   "name": "python3"
  },
  "language_info": {
   "codemirror_mode": {
    "name": "ipython",
    "version": 3
   },
   "file_extension": ".py",
   "mimetype": "text/x-python",
   "name": "python",
   "nbconvert_exporter": "python",
   "pygments_lexer": "ipython3",
   "version": "3.11.1"
  },
  "orig_nbformat": 4
 },
 "nbformat": 4,
 "nbformat_minor": 2
}
