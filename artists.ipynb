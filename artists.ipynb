{
 "cells": [
  {
   "cell_type": "code",
   "execution_count": 2,
   "metadata": {},
   "outputs": [],
   "source": [
    "import pandas as pd"
   ]
  },
  {
   "cell_type": "markdown",
   "metadata": {},
   "source": [
    "combine these two datasets:\n",
    "https://www.kaggle.com/datasets/adnananam/spotify-artist-stats\n",
    "https://www.kaggle.com/datasets/ehcall/spotify-artists\n"
   ]
  },
  {
   "cell_type": "code",
   "execution_count": 26,
   "metadata": {},
   "outputs": [
    {
     "name": "stdout",
     "output_type": "stream",
     "text": [
      "(80111, 1)\n",
      "                                               URI\n",
      "Artist Name                                       \n",
      "1:43         spotify:artist:39EHxSQAIaWusRqSI9xoyF\n",
      "2:00 AM      spotify:artist:4tN3rZ7cChj4Wns2Wt2Nj6\n",
      "2:15         spotify:artist:4HsOm6VNKZtGh8W8GhdNu4\n",
      "2:54         spotify:artist:3LsQKoRgMc8VEkQn66jfAQ\n",
      "4:20         spotify:artist:5KCG0FDMDPzQpxcohGUnyH\n",
      "(1001, 7)\n",
      "              Ranking    Lead Streams           Feats Tracks One Billion  \\\n",
      "Artist Name                                                                \n",
      "Drake               1  50,162,292,808  19,246,513,666    262           6   \n",
      "Bad Bunny           2  44,369,032,140   5,391,990,975    163           5   \n",
      "Ed Sheeran          3  38,153,682,361   2,791,278,201    240          10   \n",
      "The Weeknd          4  34,767,779,741   4,288,903,657    186           8   \n",
      "Taylor Swift        5  32,596,728,109     424,053,296    323           1   \n",
      "\n",
      "             100 Million Last Updated  \n",
      "Artist Name                            \n",
      "Drake                130     19.09.22  \n",
      "Bad Bunny            118     20.09.22  \n",
      "Ed Sheeran            62     19.09.22  \n",
      "The Weeknd            72     19.09.22  \n",
      "Taylor Swift          96     20.09.22  \n"
     ]
    }
   ],
   "source": [
    "artist_uris = pd.read_csv('datasets/artist-uris.csv', names=['Artist Name', 'URI'], index_col='Artist Name')\n",
    "artist_uris = artist_uris.loc[~artist_uris.index.duplicated(keep='first')]\n",
    "print(artist_uris.shape)\n",
    "print(artist_uris.head())\n",
    "artist_data = pd.read_csv('datasets/artist-data.csv', index_col='Artist Name')\n",
    "artist_data.rename(columns={'Unnamed: 0': 'Ranking'}, inplace=True)\n",
    "artist_data = artist_data.loc[~artist_data.index.duplicated(keep='first')]\n",
    "print(artist_data.shape)\n",
    "print(artist_data.head())"
   ]
  },
  {
   "cell_type": "code",
   "execution_count": 52,
   "metadata": {},
   "outputs": [
    {
     "name": "stdout",
     "output_type": "stream",
     "text": [
      "(870, 8)\n"
     ]
    },
    {
     "data": {
      "text/html": [
       "<div>\n",
       "<style scoped>\n",
       "    .dataframe tbody tr th:only-of-type {\n",
       "        vertical-align: middle;\n",
       "    }\n",
       "\n",
       "    .dataframe tbody tr th {\n",
       "        vertical-align: top;\n",
       "    }\n",
       "\n",
       "    .dataframe thead th {\n",
       "        text-align: right;\n",
       "    }\n",
       "</style>\n",
       "<table border=\"1\" class=\"dataframe\">\n",
       "  <thead>\n",
       "    <tr style=\"text-align: right;\">\n",
       "      <th></th>\n",
       "      <th>Ranking</th>\n",
       "      <th>Lead Streams</th>\n",
       "      <th>Feats</th>\n",
       "      <th>Tracks</th>\n",
       "      <th>One Billion</th>\n",
       "      <th>100 Million</th>\n",
       "      <th>Last Updated</th>\n",
       "      <th>URI</th>\n",
       "    </tr>\n",
       "    <tr>\n",
       "      <th>Artist Name</th>\n",
       "      <th></th>\n",
       "      <th></th>\n",
       "      <th></th>\n",
       "      <th></th>\n",
       "      <th></th>\n",
       "      <th></th>\n",
       "      <th></th>\n",
       "      <th></th>\n",
       "    </tr>\n",
       "  </thead>\n",
       "  <tbody>\n",
       "    <tr>\n",
       "      <th>Drake</th>\n",
       "      <td>1</td>\n",
       "      <td>50,162,292,808</td>\n",
       "      <td>19,246,513,666</td>\n",
       "      <td>262</td>\n",
       "      <td>6</td>\n",
       "      <td>130</td>\n",
       "      <td>19.09.22</td>\n",
       "      <td>spotify:artist:3TVXtAsR1Inumwj472S9r4</td>\n",
       "    </tr>\n",
       "    <tr>\n",
       "      <th>Bad Bunny</th>\n",
       "      <td>2</td>\n",
       "      <td>44,369,032,140</td>\n",
       "      <td>5,391,990,975</td>\n",
       "      <td>163</td>\n",
       "      <td>5</td>\n",
       "      <td>118</td>\n",
       "      <td>20.09.22</td>\n",
       "      <td>spotify:artist:4q3ewBCX7sLwd24euuV69X</td>\n",
       "    </tr>\n",
       "    <tr>\n",
       "      <th>Ed Sheeran</th>\n",
       "      <td>3</td>\n",
       "      <td>38,153,682,361</td>\n",
       "      <td>2,791,278,201</td>\n",
       "      <td>240</td>\n",
       "      <td>10</td>\n",
       "      <td>62</td>\n",
       "      <td>19.09.22</td>\n",
       "      <td>spotify:artist:6eUKZXaKkcviH0Ku9w2n3V</td>\n",
       "    </tr>\n",
       "    <tr>\n",
       "      <th>The Weeknd</th>\n",
       "      <td>4</td>\n",
       "      <td>34,767,779,741</td>\n",
       "      <td>4,288,903,657</td>\n",
       "      <td>186</td>\n",
       "      <td>8</td>\n",
       "      <td>72</td>\n",
       "      <td>19.09.22</td>\n",
       "      <td>spotify:artist:1Xyo4u8uXC1ZmMpatF05PJ</td>\n",
       "    </tr>\n",
       "    <tr>\n",
       "      <th>Taylor Swift</th>\n",
       "      <td>5</td>\n",
       "      <td>32,596,728,109</td>\n",
       "      <td>424,053,296</td>\n",
       "      <td>323</td>\n",
       "      <td>1</td>\n",
       "      <td>96</td>\n",
       "      <td>20.09.22</td>\n",
       "      <td>spotify:artist:06HL4z0CvFAxyc27GXpf02</td>\n",
       "    </tr>\n",
       "  </tbody>\n",
       "</table>\n",
       "</div>"
      ],
      "text/plain": [
       "              Ranking    Lead Streams           Feats Tracks One Billion  \\\n",
       "Artist Name                                                                \n",
       "Drake               1  50,162,292,808  19,246,513,666    262           6   \n",
       "Bad Bunny           2  44,369,032,140   5,391,990,975    163           5   \n",
       "Ed Sheeran          3  38,153,682,361   2,791,278,201    240          10   \n",
       "The Weeknd          4  34,767,779,741   4,288,903,657    186           8   \n",
       "Taylor Swift        5  32,596,728,109     424,053,296    323           1   \n",
       "\n",
       "             100 Million Last Updated                                    URI  \n",
       "Artist Name                                                                   \n",
       "Drake                130     19.09.22  spotify:artist:3TVXtAsR1Inumwj472S9r4  \n",
       "Bad Bunny            118     20.09.22  spotify:artist:4q3ewBCX7sLwd24euuV69X  \n",
       "Ed Sheeran            62     19.09.22  spotify:artist:6eUKZXaKkcviH0Ku9w2n3V  \n",
       "The Weeknd            72     19.09.22  spotify:artist:1Xyo4u8uXC1ZmMpatF05PJ  \n",
       "Taylor Swift          96     20.09.22  spotify:artist:06HL4z0CvFAxyc27GXpf02  "
      ]
     },
     "execution_count": 52,
     "metadata": {},
     "output_type": "execute_result"
    }
   ],
   "source": [
    "joined = pd.concat([artist_data, artist_uris], axis=1, join='inner')\n",
    "\n",
    "with open('datasets/missed-artists.txt', 'w') as f:\n",
    "    f.write('\\n'.join(set(artist_data.index).difference(set(joined.index))))\n",
    "\n",
    "print(joined.shape)\n",
    "joined.head()"
   ]
  },
  {
   "cell_type": "code",
   "execution_count": 54,
   "metadata": {},
   "outputs": [],
   "source": [
    "joined.to_csv('datasets/artists.csv', encoding='utf-8')\n"
   ]
  }
 ],
 "metadata": {
  "kernelspec": {
   "display_name": "env",
   "language": "python",
   "name": "python3"
  },
  "language_info": {
   "codemirror_mode": {
    "name": "ipython",
    "version": 3
   },
   "file_extension": ".py",
   "mimetype": "text/x-python",
   "name": "python",
   "nbconvert_exporter": "python",
   "pygments_lexer": "ipython3",
   "version": "3.11.1"
  },
  "orig_nbformat": 4
 },
 "nbformat": 4,
 "nbformat_minor": 2
}
