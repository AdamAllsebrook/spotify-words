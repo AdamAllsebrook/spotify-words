{
 "cells": [
  {
   "cell_type": "code",
   "execution_count": null,
   "metadata": {},
   "outputs": [],
   "source": [
    "import time\n",
    "from selenium.webdriver import Chrome\n",
    "from selenium.webdriver.common.by import By\n",
    "from selenium.webdriver.common.keys import Keys\n",
    "from selenium.webdriver.support.ui import WebDriverWait\n",
    "from selenium.webdriver.support import expected_conditions as EC\n",
    "from selenium.webdriver.chrome.options import Options\n",
    "import pandas as pd\n",
    "import numpy as np\n",
    "from concurrent import futures\n",
    "\n",
    "VIDEOS_DATASET_PATH = 'datasets/videos.csv'\n",
    "\n",
    "ID = 'id'\n",
    "NAME = 'name'\n",
    "YOUTUBE = 'youtube_url'\n",
    "SPOTIFY = 'spotify_uri'\n",
    "\n",
    "CHANNEL = 'channel'\n",
    "TITLE = 'title'\n",
    "URL = 'url'\n"
   ]
  },
  {
   "cell_type": "code",
   "execution_count": null,
   "metadata": {},
   "outputs": [],
   "source": [
    "\n",
    "def get_comments(url, options=None, max_comments=100):\n",
    "    comments = []\n",
    "    with Chrome(options=options) as driver:\n",
    "        wait = WebDriverWait(driver,2)\n",
    "        driver.get(url)\n",
    "\n",
    "        last_comments_len = None\n",
    "        while len(comments) != last_comments_len and len(comments) < max_comments:\n",
    "            last_comments_len = len(comments)\n",
    "            for _ in range(10):\n",
    "                wait.until(EC.visibility_of_element_located((By.TAG_NAME, \"body\"))).send_keys(Keys.END)\n",
    "                time.sleep(1)\n",
    "\n",
    "            for comment in driver.find_elements(By.CSS_SELECTOR, \"#content-text\"):\n",
    "                if comment.text not in comments:\n",
    "                    comments.append(comment.text)\n",
    "            print(f'{len(comments) - last_comments_len} new comments')\n",
    "\n",
    "    return comments\n",
    "\n",
    "def get_all_comments(urls, options=None, timeout=120):\n",
    "    options = Options()\n",
    "    options.add_argument('--headless=new')\n",
    "    options.add_argument('--mute-audio')\n",
    "    all_comments = []\n",
    "    with futures.ThreadPoolExecutor() as executor:\n",
    "        future_comments = [executor.submit(get_comments, url, options) for url in urls]\n",
    "        for future_comment, url in zip(future_comments, urls): \n",
    "            try:        \n",
    "                all_comments.append((url, future_comment.result(timeout=timeout))) # can use `timeout` to wait max seconds for each thread               \n",
    "            except Exception as exc:\n",
    "                print(f'{url} generated an exception')\n",
    "                print(exc)\n",
    "    return all_comments\n"
   ]
  },
  {
   "cell_type": "code",
   "execution_count": null,
   "metadata": {},
   "outputs": [],
   "source": [
    "videos = pd.read_csv(VIDEOS_DATASET_PATH, index_col=ID)\n",
    "\n",
    "comments = get_all_comments(videos[URL].values[:5])"
   ]
  },
  {
   "cell_type": "code",
   "execution_count": null,
   "metadata": {},
   "outputs": [],
   "source": [
    "comments"
   ]
  }
 ],
 "metadata": {
  "kernelspec": {
   "display_name": "env",
   "language": "python",
   "name": "python3"
  },
  "language_info": {
   "codemirror_mode": {
    "name": "ipython",
    "version": 3
   },
   "file_extension": ".py",
   "mimetype": "text/x-python",
   "name": "python",
   "nbconvert_exporter": "python",
   "pygments_lexer": "ipython3",
   "version": "3.11.1"
  },
  "orig_nbformat": 4
 },
 "nbformat": 4,
 "nbformat_minor": 2
}
