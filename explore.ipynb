{
 "cells": [
  {
   "cell_type": "code",
   "execution_count": null,
   "metadata": {},
   "outputs": [],
   "source": []
  },
  {
   "cell_type": "code",
   "execution_count": null,
   "metadata": {},
   "outputs": [],
   "source": [
    "import time\n",
    "from selenium.webdriver import Chrome\n",
    "from selenium.webdriver.common.by import By\n",
    "from selenium.webdriver.common.keys import Keys\n",
    "from selenium.webdriver.support.ui import WebDriverWait\n",
    "from selenium.webdriver.support import expected_conditions as EC\n",
    "from selenium.webdriver.chrome.options import Options\n",
    "from concurrent import futures"
   ]
  },
  {
   "cell_type": "code",
   "execution_count": null,
   "metadata": {},
   "outputs": [],
   "source": [
    "data=[]\n",
    "options = Options()\n",
    "options.add_argument('--headless=new')\n",
    "\n",
    "def get_comments(url, options=None):\n",
    "    with Chrome(options=options) as driver:\n",
    "        wait = WebDriverWait(driver,5)\n",
    "        driver.get(url)\n",
    "\n",
    "        for item in range(15): \n",
    "            wait.until(EC.visibility_of_element_located((By.TAG_NAME, \"body\"))).send_keys(Keys.END)\n",
    "            time.sleep(1)\n",
    "\n",
    "        for comment in wait.until(EC.presence_of_all_elements_located((By.CSS_SELECTOR, \"#content-text\"))):\n",
    "            data.append(comment.text)\n",
    "    return data\n",
    "\n",
    "urls = [\n",
    "    'https://www.youtube.com/watch?v=wSTYIyQxfPQ',\n",
    "    'https://www.youtube.com/watch?v=TNsSBhl_2LI',\n",
    "    'https://www.youtube.com/watch?v=DviID8Ni7Ns',\n",
    "    'https://www.youtube.com/watch?v=9IZKcb3LndA',\n",
    "]\n",
    "\n",
    "comments = []\n",
    "with futures.ThreadPoolExecutor() as executor:\n",
    "    future_comments = [executor.submit(get_comments, url, options) for url in urls]\n",
    "    for future_comment, link in zip(future_comments, urls): \n",
    "        try:        \n",
    "            comments += future_comment.result() # can use `timeout` to wait max seconds for each thread               \n",
    "        except Exception as exc:\n",
    "            print('url {:0} generated an exception: {:1}'.format(link, exc))"
   ]
  },
  {
   "cell_type": "code",
   "execution_count": null,
   "metadata": {},
   "outputs": [],
   "source": [
    "comments"
   ]
  },
  {
   "cell_type": "code",
   "execution_count": null,
   "metadata": {},
   "outputs": [],
   "source": [
    "with open(\"datasets/comments.txt\", \"w\", encoding='utf8') as output:\n",
    "    output.write('\\n'.join([comment.replace('\\n', ' ') for comment in data]))"
   ]
  },
  {
   "cell_type": "code",
   "execution_count": null,
   "metadata": {},
   "outputs": [],
   "source": [
    "import spacy\n",
    "\n",
    "nlp = spacy.load(\"en_core_web_sm\")\n",
    "doc = nlp(' '.join(data))\n",
    "adjectives = [token.text for token in doc if token.pos_ == 'ADJ']"
   ]
  },
  {
   "cell_type": "code",
   "execution_count": null,
   "metadata": {},
   "outputs": [],
   "source": [
    "from collections import Counter\n",
    "Counter(adjectives)"
   ]
  },
  {
   "cell_type": "code",
   "execution_count": null,
   "metadata": {},
   "outputs": [],
   "source": []
  }
 ],
 "metadata": {
  "kernelspec": {
   "display_name": "env",
   "language": "python",
   "name": "python3"
  },
  "language_info": {
   "codemirror_mode": {
    "name": "ipython",
    "version": 3
   },
   "file_extension": ".py",
   "mimetype": "text/x-python",
   "name": "python",
   "nbconvert_exporter": "python",
   "pygments_lexer": "ipython3",
   "version": "3.11.1"
  },
  "orig_nbformat": 4
 },
 "nbformat": 4,
 "nbformat_minor": 2
}
